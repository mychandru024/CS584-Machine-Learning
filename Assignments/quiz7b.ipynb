{
 "cells": [
  {
   "cell_type": "code",
   "execution_count": 8,
   "metadata": {
    "collapsed": false
   },
   "outputs": [
    {
     "name": "stdout",
     "output_type": "stream",
     "text": [
      "[0 1 1 1 1 1 1 1 1 1 1 1 1 1 1 0 1 0 0 0 0 0 1 1 0 1 1 0 1 0 1 0 1 0 1 0 1\n",
      " 0 1 0 0 1 0 1 1 0 1 1 1 0 0 0 0 1 1 1 1 1 1 0 0 0 1 1 0 1 0 0 0 1 1 0 1 0\n",
      " 0 1 1 1 1 1 0 0 0 1 0 1 1 1 0 0 1 0 1 0 1 1 0 1 1 1 1 1 1 1 0 1 0 1 0 0 1\n",
      " 0 0 1 1 1 1 1 1 1 1 1 0 1 0 1 1 1 1 1 0 1 1 1 1 1 1 0 0 1 1 1 0 1 1 0 1 0\n",
      " 1 1 1 1 1 1 1 0 1 0 1 0 0 1 1 0 1 0 0 0 1 1 1 1 1 1 0 1 1 1 1 0 0 1 1 0 1\n",
      " 1 1 1]\n",
      "[0 1 1 1 1 1 1 1 1 1 0 1 1 0 1 0 1 0 0 0 0 0 1 1 0 1 1 0 1 0 1 0 1 0 1 0 1\n",
      " 0 1 0 0 1 0 1 0 0 1 1 1 0 0 0 0 1 1 1 1 1 1 0 0 0 1 1 0 1 0 0 0 1 0 0 1 1\n",
      " 0 1 1 1 1 1 0 0 0 1 0 1 1 1 0 0 1 0 0 0 1 1 0 1 1 1 1 1 1 1 0 1 0 1 0 0 1\n",
      " 0 0 1 1 1 1 1 1 1 1 1 0 1 0 1 0 1 1 1 0 1 1 1 1 1 1 0 0 1 1 1 0 1 1 0 1 0\n",
      " 1 1 1 1 1 1 1 0 1 0 1 0 0 1 1 0 1 0 0 0 1 1 1 1 1 1 0 1 1 1 1 0 0 1 1 0 1\n",
      " 1 1 1]\n",
      "0.962765957447\n",
      "0.963\n",
      "0.991379310345\n",
      "0.991\n",
      "0.95041322314\n",
      "0.950\n",
      "0.996669544838\n",
      "0.997\n"
     ]
    }
   ],
   "source": [
    "from sklearn.datasets import load_breast_cancer\n",
    "from sklearn.model_selection import train_test_split\n",
    "from sklearn.linear_model import LogisticRegression\n",
    "from sklearn.metrics import accuracy_score,precision_score,recall_score,roc_auc_score\n",
    "\n",
    "data_X,data_Y = load_breast_cancer(True)\n",
    "\n",
    "X_train,X_test,Y_train,Y_test = train_test_split(data_X,data_Y,train_size=0.67,random_state=0)\n",
    "\n",
    "lr = LogisticRegression()\n",
    "lr.fit(X_train,Y_train)\n",
    "Y_pred = lr.predict(X_test)\n",
    "#Y_pred = lr.predict_proba(X_test)\n",
    "print(Y_test)\n",
    "print(Y_pred)\n",
    "\n",
    "acc_score = accuracy_score(Y_test,Y_pred)\n",
    "print(acc_score)\n",
    "print(\"%0.3f\"%acc_score)\n",
    "\n",
    "pre_score = precision_score(Y_test,Y_pred)\n",
    "print(pre_score)\n",
    "print(\"%0.3f\"%pre_score)\n",
    "\n",
    "rec_score = recall_score(Y_test,Y_pred)\n",
    "print(rec_score)\n",
    "print(\"%0.3f\"%rec_score)\n",
    "\n",
    "Y_score = lr.decision_function(X_test)\n",
    "auc_score = roc_auc_score(Y_test,Y_score)\n",
    "print(auc_score)\n",
    "print(\"%0.3f\"%auc_score)"
   ]
  },
  {
   "cell_type": "code",
   "execution_count": null,
   "metadata": {
    "collapsed": true
   },
   "outputs": [],
   "source": []
  },
  {
   "cell_type": "code",
   "execution_count": null,
   "metadata": {
    "collapsed": true
   },
   "outputs": [],
   "source": []
  }
 ],
 "metadata": {
  "kernelspec": {
   "display_name": "Python [Root]",
   "language": "python",
   "name": "Python [Root]"
  },
  "language_info": {
   "codemirror_mode": {
    "name": "ipython",
    "version": 3
   },
   "file_extension": ".py",
   "mimetype": "text/x-python",
   "name": "python",
   "nbconvert_exporter": "python",
   "pygments_lexer": "ipython3",
   "version": "3.5.2"
  }
 },
 "nbformat": 4,
 "nbformat_minor": 0
}
