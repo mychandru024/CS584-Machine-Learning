{
 "cells": [
  {
   "cell_type": "code",
   "execution_count": 2,
   "metadata": {
    "collapsed": false
   },
   "outputs": [
    {
     "name": "stdout",
     "output_type": "stream",
     "text": [
      "21.1\n"
     ]
    }
   ],
   "source": [
    "from sklearn.datasets import load_boston\n",
    "from sklearn.linear_model import Ridge\n",
    "X1,Y1 = load_boston(True)\n",
    "#print(X.data.shape)\n",
    "\n",
    "clf1 = Ridge()\n",
    "clf1.fit(X1,Y1)\n",
    "\n",
    "predict_x1 = [[  6.71311099e+00,   1.13774704e+01,   1.27703953e+01,           5.92885375e-02,   5.88693281e-01,   6.23768379e+00,           7.14363636e+01,   3.43944269e+00,   1.45335968e+01,           4.95553360e+02,   1.89952569e+01,   3.36734941e+02,           1.39339921e+01]]\n",
    "predict_y1 = clf1.predict(predict_x1)\n",
    "print('%0.1f'%predict_y1)"
   ]
  },
  {
   "cell_type": "code",
   "execution_count": 2,
   "metadata": {
    "collapsed": false
   },
   "outputs": [
    {
     "name": "stdout",
     "output_type": "stream",
     "text": [
      "[[  6.32000000e-03   1.80000000e+01   2.31000000e+00 ...,   1.53000000e+01\n",
      "    3.96900000e+02   4.98000000e+00]\n",
      " [  2.73100000e-02   0.00000000e+00   7.07000000e+00 ...,   1.78000000e+01\n",
      "    3.96900000e+02   9.14000000e+00]\n",
      " [  2.72900000e-02   0.00000000e+00   7.07000000e+00 ...,   1.78000000e+01\n",
      "    3.92830000e+02   4.03000000e+00]\n",
      " ..., \n",
      " [  6.07600000e-02   0.00000000e+00   1.19300000e+01 ...,   2.10000000e+01\n",
      "    3.96900000e+02   5.64000000e+00]\n",
      " [  1.09590000e-01   0.00000000e+00   1.19300000e+01 ...,   2.10000000e+01\n",
      "    3.93450000e+02   6.48000000e+00]\n",
      " [  4.74100000e-02   0.00000000e+00   1.19300000e+01 ...,   2.10000000e+01\n",
      "    3.96900000e+02   7.88000000e+00]]\n",
      "[-15.1506561  -33.33108327 -53.28544689 -56.60390369 -19.29364303]\n",
      "35.5\n"
     ]
    }
   ],
   "source": [
    "from sklearn.datasets import load_boston\n",
    "from sklearn.linear_model import Lasso\n",
    "from sklearn.model_selection import cross_val_score\n",
    "import numpy as np\n",
    "\n",
    "X2,Y2 = load_boston(True)\n",
    "\n",
    "clf2 = Lasso()\n",
    "print(X2)\n",
    "scores = cross_val_score(clf2,X2,Y2,scoring='neg_mean_squared_error',cv=5)\n",
    "\n",
    "print(scores)\n",
    "\n",
    "print('%0.1f'%(-1 * np.mean(scores)))\n"
   ]
  },
  {
   "cell_type": "code",
   "execution_count": 14,
   "metadata": {
    "collapsed": false
   },
   "outputs": [
    {
     "name": "stdout",
     "output_type": "stream",
     "text": [
      "(array([ 1.25,  1.75,  2.  ,  0.5 ]), array([  1.97215226e-29]), 4, array([ 8.34266428,  4.28932013,  2.60850146,  0.44430368]))\n"
     ]
    }
   ],
   "source": [
    "import numpy as np\n",
    "\n",
    "coefficients = [[1,2,4,0],[1,4,1,4],[1,1,0,3],[1,3,2,1],[1,0,3,2]]\n",
    "dependent = [12.75,12.25,4.5,11,8.25]\n",
    "\n",
    "solution = np.linalg.lstsq(coefficients,dependent)\n",
    "print(solution)\n",
    "#print(solution.coef_)"
   ]
  },
  {
   "cell_type": "code",
   "execution_count": null,
   "metadata": {
    "collapsed": true
   },
   "outputs": [],
   "source": []
  },
  {
   "cell_type": "code",
   "execution_count": null,
   "metadata": {
    "collapsed": true
   },
   "outputs": [],
   "source": []
  }
 ],
 "metadata": {
  "anaconda-cloud": {},
  "kernelspec": {
   "display_name": "Python [Root]",
   "language": "python",
   "name": "Python [Root]"
  },
  "language_info": {
   "codemirror_mode": {
    "name": "ipython",
    "version": 3
   },
   "file_extension": ".py",
   "mimetype": "text/x-python",
   "name": "python",
   "nbconvert_exporter": "python",
   "pygments_lexer": "ipython3",
   "version": "3.5.2"
  }
 },
 "nbformat": 4,
 "nbformat_minor": 0
}
