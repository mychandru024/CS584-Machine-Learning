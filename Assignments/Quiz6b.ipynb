{
 "cells": [
  {
   "cell_type": "code",
   "execution_count": 7,
   "metadata": {
    "collapsed": false
   },
   "outputs": [
    {
     "name": "stdout",
     "output_type": "stream",
     "text": [
      "0.920212765957\n"
     ]
    }
   ],
   "source": [
    "from sklearn.datasets import load_breast_cancer\n",
    "from sklearn.model_selection import train_test_split\n",
    "from sklearn.naive_bayes import GaussianNB\n",
    "\n",
    "input_class,target_class = load_breast_cancer(True)\n",
    "input_train,input_test,target_train,target_test = train_test_split(input_class,target_class,train_size=0.67,random_state=0)\n",
    "gnb = GaussianNB()\n",
    "gnb.fit(input_train,target_train)\n",
    "mean_accuracy = gnb.score(input_test,target_test)\n",
    "print(mean_accuracy)\n"
   ]
  },
  {
   "cell_type": "code",
   "execution_count": 37,
   "metadata": {
    "collapsed": false
   },
   "outputs": [
    {
     "name": "stdout",
     "output_type": "stream",
     "text": [
      "[ 0.18232273]\n"
     ]
    }
   ],
   "source": [
    "from scipy.optimize import minimize\n",
    "import numpy as np\n",
    "\n",
    "def f(w):\n",
    "    return (6*w-11*np.log(1+np.exp(w)))\n",
    "    \n",
    "def fp(w):\n",
    "    return 6 - ((11*np.exp(w))/(1+np.exp(w)))\n",
    "\n",
    "res = minimize(fun=lambda x:-f(x),x0=1,jac=lambda x:-fp(x),method='BFGS')\n",
    "print(res.x)\n",
    "\n",
    "\n",
    "    "
   ]
  },
  {
   "cell_type": "code",
   "execution_count": 36,
   "metadata": {
    "collapsed": false
   },
   "outputs": [
    {
     "name": "stdout",
     "output_type": "stream",
     "text": [
      "iter:  0 x:  1 | fp(x): 16 |lr *g_v :  8.0\n",
      "iter:  1 x:  9.0 | fp(x): 8.0 |lr *g_v :  4.0\n",
      "iter:  2 x:  13.0 | fp(x): 4.0 |lr *g_v :  2.0\n",
      "iter:  3 x:  15.0 | fp(x): 2.0 |lr *g_v :  1.0\n",
      "iter:  4 x:  16.0 | fp(x): 1.0 |lr *g_v :  0.5\n",
      "iter:  5 x:  16.5 | fp(x): 0.5 |lr *g_v :  0.25\n",
      "iter:  6 x:  16.75 | fp(x): 0.25 |lr *g_v :  0.125\n",
      "iter:  7 x:  16.875 | fp(x): 0.125 |lr *g_v :  0.0625\n",
      "iter:  8 x:  16.9375 | fp(x): 0.0625 |lr *g_v :  0.03125\n",
      "iter:  9 x:  16.96875 | fp(x): 0.03125 |lr *g_v :  0.015625\n"
     ]
    }
   ],
   "source": [
    "from scipy.optimize import minimize\n",
    "import numpy as np\n",
    "\n",
    "max_iterations = 10\n",
    "learning_rate = 0.5\n",
    "_x = 1\n",
    "\n",
    "def f(x):\n",
    "    return -2*(x ** 2)+8*x+10\n",
    "\n",
    "def fp(x):\n",
    "    #return (-4)*x+8\n",
    "    return -x+17\n",
    "\n",
    "for i in range(max_iterations):\n",
    "    gradient_value = fp(_x)\n",
    "    print('iter: ',i,'x: ',_x,'| fp(x):',gradient_value,'|lr *g_v : ',learning_rate * gradient_value)\n",
    "    _x += (learning_rate * gradient_value)\n",
    "#res = minimize(fun=lambda x:-f(x),x0=1,jac=lambda x:-fp(x),method='BFGS')\n",
    "#print(res.x)\n"
   ]
  },
  {
   "cell_type": "code",
   "execution_count": 38,
   "metadata": {
    "collapsed": false
   },
   "outputs": [
    {
     "data": {
      "text/plain": [
       "1.2"
      ]
     },
     "execution_count": 38,
     "metadata": {},
     "output_type": "execute_result"
    }
   ],
   "source": [
    "6/5"
   ]
  },
  {
   "cell_type": "code",
   "execution_count": 46,
   "metadata": {
    "collapsed": false
   },
   "outputs": [
    {
     "name": "stdout",
     "output_type": "stream",
     "text": [
      "-1.8111447954\n"
     ]
    },
    {
     "data": {
      "text/plain": [
       "-3.6887678577567069"
      ]
     },
     "execution_count": 46,
     "metadata": {},
     "output_type": "execute_result"
    }
   ],
   "source": [
    "import numpy as np\n",
    "print(4+(0.5*(9-(21*(np.exp(4))/(1+np.exp(4))))))\n",
    "\n",
    "6-((11*np.exp(3))/(np.exp(1)+np.exp(3)))"
   ]
  },
  {
   "cell_type": "code",
   "execution_count": null,
   "metadata": {
    "collapsed": true
   },
   "outputs": [],
   "source": []
  },
  {
   "cell_type": "code",
   "execution_count": null,
   "metadata": {
    "collapsed": true
   },
   "outputs": [],
   "source": []
  }
 ],
 "metadata": {
  "anaconda-cloud": {},
  "kernelspec": {
   "display_name": "Python [Root]",
   "language": "python",
   "name": "Python [Root]"
  },
  "language_info": {
   "codemirror_mode": {
    "name": "ipython",
    "version": 3
   },
   "file_extension": ".py",
   "mimetype": "text/x-python",
   "name": "python",
   "nbconvert_exporter": "python",
   "pygments_lexer": "ipython3",
   "version": "3.5.2"
  }
 },
 "nbformat": 4,
 "nbformat_minor": 0
}
