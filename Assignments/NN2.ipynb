{
 "cells": [
  {
   "cell_type": "code",
   "execution_count": 5,
   "metadata": {
    "collapsed": false
   },
   "outputs": [
    {
     "name": "stdout",
     "output_type": "stream",
     "text": [
      "0.00729291337353\n",
      "0.0773243436015\n",
      "0.0252876900589\n",
      "0.396065514373\n",
      "0.146655636168\n",
      "0.739008060615\n",
      "0.770615912391\n",
      "0.919854159865\n",
      "0.954719164206\n",
      "0.434101654014\n",
      "0.864983405101\n",
      "0.967168742587\n"
     ]
    }
   ],
   "source": [
    "import numpy as np\n",
    "def classify(x,v1,v2,w):\n",
    "    z1 = np.tanh(v1[0] + np.dot(x,v1[1:]))\n",
    "    z2 = np.tanh(v2[0] + np.dot(x,v2[1:]))\n",
    "    y = 1./(1 + np.exp(-w[0] - np.dot(w[1:],[z1,z2])))\n",
    "    return y\n",
    "\n",
    "v1 = [.1,-.1,.1]\n",
    "v2 = [.1,.1,-.1]\n",
    "w2 = [-.1,.1,.1]\n",
    "\n",
    "X_2 = [[1,1],[1,2],[2,1],[2,2],[3,1],[3,2],[1,3],[2,3],[3,3],[4,1],[4,2],[4,3]]\n",
    "t = [0,0,0,0,0,0,1,1,1,1,1,1]\n",
    "\n",
    "lr = 0.0075\n",
    "alpha = 0.0\n",
    "for _ in range(1000):\n",
    "    t_e = 0\n",
    "    for i in range(len(X_2)):\n",
    "        x = X_2[i]\n",
    "        #feed forward\n",
    "        z1 = np.tanh(v1[0] + np.dot(x,v1[1:]))\n",
    "        z2 = np.tanh(v2[0] + np.dot(x,v2[1:]))\n",
    "        y = 1./(1 + np.exp(-w2[0] - np.dot(w2[1:],[z1,z2]))) \n",
    "        #backward\n",
    "        y_e = (1 - t[i])*y - t[i] * (1 - y)\n",
    "        z1_e = y_e * w2[1] * (1 - z1) * (1 + z1)\n",
    "        z2_e = y_e * w2[2] * (1 - z2) * (1 + z2)\n",
    "        \n",
    "        w2[0] = w2[0] - lr*y_e*1 - lr*alpha*w2[0]\n",
    "        w2[1] = w2[1] - lr*y_e*z1 - lr*alpha*w2[1]\n",
    "        w2[2] = w2[2] - lr*y_e*z2 - lr*alpha*w2[2]\n",
    "        \n",
    "        v1[0] = v1[0] - lr*z1_e*1 - lr*alpha*v1[0]\n",
    "        v1[1] = v1[1] - lr*z1_e*x[0] - lr*alpha*v1[1]\n",
    "        v1[2] = v1[2] - lr*z1_e*x[1] - lr*alpha*v1[2]\n",
    "    \n",
    "        v2[0] = v2[0] - lr*z2_e*1 - lr*alpha*v2[0]\n",
    "        v2[1] = v2[1] - lr*z2_e*x[0] - lr*alpha*v2[1]\n",
    "        v2[2] = v2[2] - lr*z2_e*x[1] - lr*alpha*v2[2]\n",
    "\n",
    "for x in X_2:\n",
    "    print(classify(x,v1,v2,w2))"
   ]
  },
  {
   "cell_type": "code",
   "execution_count": null,
   "metadata": {
    "collapsed": true
   },
   "outputs": [],
   "source": []
  },
  {
   "cell_type": "code",
   "execution_count": null,
   "metadata": {
    "collapsed": true
   },
   "outputs": [],
   "source": []
  }
 ],
 "metadata": {
  "anaconda-cloud": {},
  "kernelspec": {
   "display_name": "Python [default]",
   "language": "python",
   "name": "python3"
  },
  "language_info": {
   "codemirror_mode": {
    "name": "ipython",
    "version": 3
   },
   "file_extension": ".py",
   "mimetype": "text/x-python",
   "name": "python",
   "nbconvert_exporter": "python",
   "pygments_lexer": "ipython3",
   "version": "3.5.2"
  }
 },
 "nbformat": 4,
 "nbformat_minor": 0
}
