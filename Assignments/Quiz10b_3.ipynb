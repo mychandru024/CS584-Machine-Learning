{
 "cells": [
  {
   "cell_type": "code",
   "execution_count": 3,
   "metadata": {
    "collapsed": false
   },
   "outputs": [
    {
     "name": "stdout",
     "output_type": "stream",
     "text": [
      "-0.995054753687\n",
      "-0.999909204263\n",
      "-3.99496395795\n",
      "0.981924623649\n"
     ]
    }
   ],
   "source": [
    "import numpy as np\n",
    "\n",
    "X = [2,-1,3]\n",
    "v1 = [2,1,1,-2]\n",
    "v2 = [-2,1,-1,-2]\n",
    "w = [2,-1,-1]\n",
    "\n",
    "z1 = np.tanh(v1[0] + np.dot(X,v1[1:]))\n",
    "z2 = np.tanh(v2[0] + np.dot(X,v2[1:]))\n",
    "print(z1)\n",
    "print(z2)\n",
    "print(-w[0] - np.dot(w[1:],[z1,z2]))\n",
    "\n",
    "y2 = 1./(1 + np.exp(-w[0] - np.dot(w[1:],[z1,z2])))\n",
    "print(y2)"
   ]
  },
  {
   "cell_type": "code",
   "execution_count": 3,
   "metadata": {
    "collapsed": false
   },
   "outputs": [
    {
     "name": "stdout",
     "output_type": "stream",
     "text": [
      "0.73105857863\n"
     ]
    }
   ],
   "source": [
    "X5 = [2,-2,1]\n",
    "W = [2,2,1,-3]\n",
    "Y5 = 1./(1 + np.exp(-W[0] - np.dot(W[1:],X5)))\n",
    "print(Y5)"
   ]
  },
  {
   "cell_type": "code",
   "execution_count": 5,
   "metadata": {
    "collapsed": false
   },
   "outputs": [
    {
     "name": "stdout",
     "output_type": "stream",
     "text": [
      "[ 0.92173913  0.90434783  0.91150442  0.84070796  0.89380531]\n",
      "Accuracy : 0.894\n"
     ]
    }
   ],
   "source": [
    "from sklearn.datasets import load_breast_cancer\n",
    "from sklearn.model_selection import cross_val_score\n",
    "from sklearn.neural_network import MLPClassifier\n",
    "\n",
    "data_X,data_Y = load_breast_cancer(True)\n",
    "mlp = MLPClassifier(random_state=9)\n",
    "acc = cross_val_score(mlp, data_X, data_Y, cv=5,scoring='accuracy')\n",
    "print(acc)\n",
    "print(\"Accuracy : %0.3f\"%np.mean(acc))"
   ]
  },
  {
   "cell_type": "code",
   "execution_count": null,
   "metadata": {
    "collapsed": true
   },
   "outputs": [],
   "source": []
  }
 ],
 "metadata": {
  "kernelspec": {
   "display_name": "Python [Root]",
   "language": "python",
   "name": "Python [Root]"
  },
  "language_info": {
   "codemirror_mode": {
    "name": "ipython",
    "version": 3
   },
   "file_extension": ".py",
   "mimetype": "text/x-python",
   "name": "python",
   "nbconvert_exporter": "python",
   "pygments_lexer": "ipython3",
   "version": "3.5.2"
  }
 },
 "nbformat": 4,
 "nbformat_minor": 0
}
