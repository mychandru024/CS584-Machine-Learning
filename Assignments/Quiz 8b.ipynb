{
 "cells": [
  {
   "cell_type": "code",
   "execution_count": 31,
   "metadata": {
    "collapsed": false
   },
   "outputs": [],
   "source": [
    "import matplotlib.pyplot as plt\n",
    "import numpy as np\n",
    "\n",
    "t = [0, 1/5, 2/5, 3/5,3/5,3/5,4/5,4/5,4/5,5/5,5/5,5/5]\n",
    "s = [1/7,1/7,1/7,1/7,2/7,3/7,3/7,4/7,5/7,5/7,6/7,7/7]\n",
    "plt.xticks(np.arange(0.000, max(s)+1, 1/7))\n",
    "plt.yticks(np.arange(0.000, max(t)+1, 1/5))\n",
    "plt.xlim(0.0, 1.143)\n",
    "plt.ylim(0.0, 1.2)\n",
    "plt.plot(s, t,marker='o')\n",
    "\n",
    "plt.xlabel('False Positive Rate')\n",
    "plt.ylabel('True Positive Rate')\n",
    "plt.title('Receiver Operating Characteristic (ROC) curve')\n",
    "plt.grid(True)\n",
    "plt.savefig(\"test.png\")\n",
    "plt.show()"
   ]
  },
  {
   "cell_type": "code",
   "execution_count": 2,
   "metadata": {
    "collapsed": false
   },
   "outputs": [
    {
     "name": "stdout",
     "output_type": "stream",
     "text": [
      "[ 0.93913043  0.93043478  0.97345133  0.94690265  0.96460177]\n",
      "Accuracy : 0.951\n",
      "[ 0.91139241  0.92105263  0.97222222  0.95774648  0.98550725]\n",
      "Precision : 0.950\n",
      "[ 1.          0.97222222  0.98591549  0.95774648  0.95774648]\n",
      "Recall : 0.975\n",
      "[ 0.98998708  0.99257106  0.99765258  0.98289738  0.99765258]\n",
      "AUC : 0.992\n"
     ]
    }
   ],
   "source": [
    "from sklearn.datasets import load_breast_cancer\n",
    "#from sklearn.model_selection import train_test_split\n",
    "from sklearn.linear_model import LogisticRegression\n",
    "from sklearn.model_selection import cross_val_score\n",
    "from sklearn.metrics import accuracy_score,precision_score,recall_score,roc_auc_score\n",
    "import numpy as np\n",
    "\n",
    "data_X,data_Y = load_breast_cancer(True)\n",
    "\n",
    "lr = LogisticRegression()\n",
    "\n",
    "acc = cross_val_score(lr, data_X, data_Y, cv=5,scoring='accuracy')\n",
    "print(acc)\n",
    "print(\"Accuracy : %0.3f\"%np.mean(acc))\n",
    "\n",
    "pre = cross_val_score(lr, data_X, data_Y, cv=5,scoring='precision')\n",
    "print(pre)\n",
    "print(\"Precision : %0.3f\"%np.mean(pre))\n",
    "\n",
    "rec = cross_val_score(lr, data_X, data_Y, cv=5,scoring='recall')\n",
    "print(rec)\n",
    "print(\"Recall : %0.3f\"%np.mean(rec))\n",
    "\n",
    "auc = cross_val_score(lr, data_X, data_Y, cv=5,scoring='roc_auc')\n",
    "print(auc)\n",
    "print(\"AUC : %0.3f\"%np.mean(auc))\n",
    "\n",
    "\n"
   ]
  },
  {
   "cell_type": "code",
   "execution_count": null,
   "metadata": {
    "collapsed": true
   },
   "outputs": [],
   "source": []
  }
 ],
 "metadata": {
  "anaconda-cloud": {},
  "kernelspec": {
   "display_name": "Python [Root]",
   "language": "python",
   "name": "Python [Root]"
  },
  "language_info": {
   "codemirror_mode": {
    "name": "ipython",
    "version": 3
   },
   "file_extension": ".py",
   "mimetype": "text/x-python",
   "name": "python",
   "nbconvert_exporter": "python",
   "pygments_lexer": "ipython3",
   "version": "3.5.2"
  }
 },
 "nbformat": 4,
 "nbformat_minor": 0
}
