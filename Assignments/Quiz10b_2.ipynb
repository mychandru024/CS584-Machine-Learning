{
 "cells": [
  {
   "cell_type": "code",
   "execution_count": 1,
   "metadata": {
    "collapsed": false
   },
   "outputs": [
    {
     "name": "stdout",
     "output_type": "stream",
     "text": [
      "-0.995054753687\n",
      "[ 0.95235022]\n"
     ]
    }
   ],
   "source": [
    "import numpy as np\n",
    "X = [2,-1,3]\n",
    "v = [2,1,1,-2]\n",
    "w = [2,-1]\n",
    "z = np.tanh(v[0] + np.dot(X,v[1:]))\n",
    "print(z)\n",
    "y = 1./(1 + np.exp(-w[0] - np.dot(w[1:],z)))\n",
    "print(y)"
   ]
  },
  {
   "cell_type": "code",
   "execution_count": 3,
   "metadata": {
    "collapsed": false
   },
   "outputs": [
    {
     "data": {
      "text/plain": [
       "-0.99505475368673046"
      ]
     },
     "execution_count": 3,
     "metadata": {},
     "output_type": "execute_result"
    }
   ],
   "source": [
    "np.tanh(-3) * 1"
   ]
  },
  {
   "cell_type": "code",
   "execution_count": 13,
   "metadata": {
    "collapsed": false
   },
   "outputs": [
    {
     "name": "stdout",
     "output_type": "stream",
     "text": [
      "-0.761594155956\n",
      "[ 0.68169974]\n",
      "1.76159415596\n",
      "0.238405844044\n",
      "[ 0.13367794]\n"
     ]
    }
   ],
   "source": [
    "X2 = [1]\n",
    "v2 = [1,-2]\n",
    "w2 = [0,-1]\n",
    "z2 = np.tanh(v2[0] + np.dot(X2,v2[1:]))\n",
    "print(z2)\n",
    "#print(w2[0] + np.dot(w2[1:],z2))\n",
    "y2 = 1./(1 + np.exp(-(w2[0] + np.dot(w2[1:],z2))))\n",
    "print(y2)\n",
    "\n",
    "y_e = -1*(1-y2)\n",
    "#print(y_e)\n",
    "print(1-z2)\n",
    "print(1+z2)\n",
    "err = y_e*-1*(1-z2)*(1+z2)*1\n",
    "print(err)"
   ]
  },
  {
   "cell_type": "code",
   "execution_count": 14,
   "metadata": {
    "collapsed": false
   },
   "outputs": [
    {
     "name": "stdout",
     "output_type": "stream",
     "text": [
      "1\n",
      "1\n"
     ]
    }
   ],
   "source": [
    "x3 = [2,3,3]\n",
    "w3 = [1,2,3,-4]\n",
    "out = np.sign(w[0]+np.dot(x3,w3[1:]))\n",
    "print(out)\n",
    "print(np.sign(1))"
   ]
  },
  {
   "cell_type": "code",
   "execution_count": 8,
   "metadata": {
    "collapsed": false
   },
   "outputs": [
    {
     "name": "stdout",
     "output_type": "stream",
     "text": [
      "1\n"
     ]
    }
   ],
   "source": [
    "print(np.sign(2))"
   ]
  },
  {
   "cell_type": "code",
   "execution_count": null,
   "metadata": {
    "collapsed": true
   },
   "outputs": [],
   "source": [
    "x4 = [2,-1,3]\n",
    "v1 = [2,1,1,-2]\n",
    "v2 = [-2,1,-1,-2]\n",
    "w = [2,-1,-1]\n",
    "\n",
    "z4 = np.tanh(v1[0] + np.dot(X2,v2[1:]))\n",
    "y2 = 1./(1 + np.exp(-w2[0] - np.dot(w2[1:],z2)))\n",
    "print(y2)"
   ]
  }
 ],
 "metadata": {
  "anaconda-cloud": {},
  "kernelspec": {
   "display_name": "Python [default]",
   "language": "python",
   "name": "python3"
  },
  "language_info": {
   "codemirror_mode": {
    "name": "ipython",
    "version": 3
   },
   "file_extension": ".py",
   "mimetype": "text/x-python",
   "name": "python",
   "nbconvert_exporter": "python",
   "pygments_lexer": "ipython3",
   "version": "3.5.2"
  }
 },
 "nbformat": 4,
 "nbformat_minor": 0
}
