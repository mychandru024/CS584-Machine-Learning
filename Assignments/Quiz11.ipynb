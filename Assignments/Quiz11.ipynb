{
 "cells": [
  {
   "cell_type": "code",
   "execution_count": 4,
   "metadata": {
    "collapsed": false
   },
   "outputs": [
    {
     "name": "stdout",
     "output_type": "stream",
     "text": [
      "[ 2.  3.]\n",
      "[-6.  0.]\n",
      "13.0\n"
     ]
    }
   ],
   "source": [
    "import numpy as np\n",
    "X = np.array([[1.5,3],[2,3],[2.459,3],[3,3]])\n",
    "Y = np.array([1,1,-1,-1])\n",
    "alphas = np.array([0,10,10,0])\n",
    "\n",
    "X = np.array([[2,3],[7/3,3]])\n",
    "Y = np.array([1,-1])\n",
    "alphas = np.array([18,18])\n",
    "W = 0\n",
    "print(X[0])\n",
    "sv_inds = np.arange(len(Y))[alphas > 0]\n",
    "for i in sv_inds:\n",
    "    W += alphas[i]*X[i]*Y[i]\n",
    "print(W)\n",
    "\n",
    "b = 0\n",
    "for i in sv_inds:\n",
    "    b += Y[i] - np.dot(W,X[i])\n",
    "b /= len(sv_inds)\n",
    "print(b)\n"
   ]
  },
  {
   "cell_type": "code",
   "execution_count": 27,
   "metadata": {
    "collapsed": true
   },
   "outputs": [],
   "source": [
    "def l_k(x1,x2):\n",
    "    return np.dot(x1,x2)\n",
    "\n",
    "def p_k(x1,x2,d=2):\n",
    "    return (np.dot(x1,x2) + 1)**d\n",
    "\n",
    "def r_k(x1,x2,s):\n",
    "    print(x1,x2)\n",
    "    print(x1-x2)\n",
    "    print(np.dot(x1-x2,x1-x2))\n",
    "    return np.exp( -1 * ( np.dot(x1-x2,x1-x2) / ( 2 * (s ** 2))))\n",
    "\n",
    "def k_m(X,kf):\n",
    "    ns, nf = X.shape\n",
    "    km = np.zeros((ns,ns))\n",
    "    for i in range(ns):\n",
    "        for j in range(ns):\n",
    "            km[i,j] = kf(X[i],X[j])\n",
    "    return km\n",
    "\n",
    "def classify(X, y, alphas, b, kf, x):\n",
    "    sv_inds = np.arange(len(y))[alphas > 0]\n",
    "    p = 0\n",
    "    for i in sv_inds:\n",
    "        print('P :',p)\n",
    "        p += alphas[i] * y[i] * kf(X[i],x)\n",
    "    print('P : ',p)\n",
    "    return p+b\n",
    "\n",
    "def compute_b(X, y, alphas, kf):\n",
    "    sv_inds = np.arange(len(y))[alphas > 0]\n",
    "    b = 0\n",
    "    for i in sv_inds:\n",
    "        b += (y[i] - classify(X,y,alphas,0,kf,X[i]))\n",
    "    return b/len(sv_inds)\n"
   ]
  },
  {
   "cell_type": "code",
   "execution_count": 29,
   "metadata": {
    "collapsed": false
   },
   "outputs": [
    {
     "name": "stdout",
     "output_type": "stream",
     "text": [
      "P : 0\n",
      "P : 33750.0\n",
      "P :  -3194.02347579\n",
      "-3194.02347579\n"
     ]
    }
   ],
   "source": [
    "#kf = l_k\n",
    "kf = lambda x1,x2 : p_k(x1,x2,3)\n",
    "#kf = lambda x1,x2 : r_k(x1,x2,1)\n",
    "\n",
    "X = np.array([[1.5,3],[2,3],[2.459,3],[3,3]])\n",
    "Y = np.array([1,1,-1,-1])\n",
    "alphas = np.array([0,10,10,0])\n",
    "\n",
    "print(classify(X,Y,alphas,0,kf,[1,4]))\n",
    "#print(compute_b(X,Y,alphas,kf))\n"
   ]
  },
  {
   "cell_type": "code",
   "execution_count": 4,
   "metadata": {
    "collapsed": true
   },
   "outputs": [],
   "source": [
    "X = np.array([[1,1],[1,3],[3,1],[3,3]])\n",
    "Y = np.array([1.,1.,-1.,-1.])\n",
    "alphas = np.array([])"
   ]
  },
  {
   "cell_type": "code",
   "execution_count": 6,
   "metadata": {
    "collapsed": false
   },
   "outputs": [
    {
     "name": "stdout",
     "output_type": "stream",
     "text": [
      "9\n"
     ]
    }
   ],
   "source": [
    "W = [4,3,-2]\n",
    "X = [5,6,15]\n",
    "b = 1\n",
    "\n",
    "print(np.dot(W,X) + b)"
   ]
  },
  {
   "cell_type": "code",
   "execution_count": 43,
   "metadata": {
    "collapsed": false
   },
   "outputs": [
    {
     "name": "stdout",
     "output_type": "stream",
     "text": [
      "5.643405\n"
     ]
    }
   ],
   "source": [
    "a = np.dot([-4.59,0],[1,4])\n",
    "b = a + 10.233405\n",
    "print(b)"
   ]
  },
  {
   "cell_type": "code",
   "execution_count": null,
   "metadata": {
    "collapsed": true
   },
   "outputs": [],
   "source": []
  }
 ],
 "metadata": {
  "anaconda-cloud": {},
  "kernelspec": {
   "display_name": "Python [Root]",
   "language": "python",
   "name": "Python [Root]"
  },
  "language_info": {
   "codemirror_mode": {
    "name": "ipython",
    "version": 3
   },
   "file_extension": ".py",
   "mimetype": "text/x-python",
   "name": "python",
   "nbconvert_exporter": "python",
   "pygments_lexer": "ipython3",
   "version": "3.5.2"
  }
 },
 "nbformat": 4,
 "nbformat_minor": 0
}
